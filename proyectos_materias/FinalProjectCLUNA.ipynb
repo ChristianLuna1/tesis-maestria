{
 "cells": [
  {
   "cell_type": "code",
   "execution_count": 2,
   "id": "382aba64-b6eb-41e3-afb8-e68f1215dfc1",
   "metadata": {},
   "outputs": [
    {
     "data": {
      "text/html": [
       "\n",
       "        <iframe\n",
       "            width=\"100%\"\n",
       "            height=\"650\"\n",
       "            src=\"http://127.0.0.1:8050/\"\n",
       "            frameborder=\"0\"\n",
       "            allowfullscreen\n",
       "            \n",
       "        ></iframe>\n",
       "        "
      ],
      "text/plain": [
       "<IPython.lib.display.IFrame at 0x1efa73bca40>"
      ]
     },
     "metadata": {},
     "output_type": "display_data"
    }
   ],
   "source": [
    "import dash\n",
    "from dash import dcc, html\n",
    "from dash.dependencies import Input, Output\n",
    "import pandas as pd\n",
    "import plotly.express as px\n",
    "\n",
    "# Load data from Excel file\n",
    "file_path = r'C:\\Users\\christian_luna\\Documents\\Maestria\\TopicosDeIndustria1\\datos_trafico_guadalajara.xlsx'\n",
    "df = pd.read_excel(file_path)\n",
    "\n",
    "# Clean column names to remove any extra spaces\n",
    "df.columns = df.columns.str.strip()\n",
    "\n",
    "# Initialize the Dash application\n",
    "app = dash.Dash(__name__)\n",
    "\n",
    "# Filter options\n",
    "zone_options = [{'label': zone, 'value': zone} for zone in df['Zone'].unique()]\n",
    "vehicle_options = [{'label': vehicle, 'value': vehicle} for vehicle in df['vehicle type'].unique()]\n",
    "\n",
    "# Dashboard design\n",
    "app.layout = html.Div([\n",
    "    html.H1(\"Traffic Dashboard - Guadalajara Metropolitan Area\"),\n",
    "    \n",
    "    # Filters menu\n",
    "    html.Div([\n",
    "        html.Label('Select Zone:'),\n",
    "        dcc.Dropdown(id='zone-dropdown', options=zone_options, value=zone_options[0]['value']),\n",
    "        \n",
    "        html.Label('Select Vehicle Type:'),\n",
    "        dcc.Dropdown(id='vehicle-dropdown', options=vehicle_options, value=vehicle_options[0]['value']),\n",
    "    ], style={'width': '48%', 'display': 'inline-block'}),\n",
    "    \n",
    "    # Graphs\n",
    "    dcc.Graph(id='heatmap'),\n",
    "    dcc.Graph(id='speed-histogram')\n",
    "])\n",
    "\n",
    "# Callback to update heatmap and histogram based on selected filters\n",
    "@app.callback(\n",
    "    [Output('heatmap', 'figure'),\n",
    "     Output('speed-histogram', 'figure')],\n",
    "    [Input('zone-dropdown', 'value'),\n",
    "     Input('vehicle-dropdown', 'value')]\n",
    ")\n",
    "def update_graphs(zone, vehicle):\n",
    "    # Filter the dataset according to the selected zone and vehicle type\n",
    "    filtered_df = df[(df['Zone'] == zone) & (df['vehicle type'] == vehicle)]\n",
    "    \n",
    "    # Heatmap: Congestion versus time\n",
    "    heatmap_fig = px.density_heatmap(filtered_df, x='Date and Time', y='Zone',\n",
    "                                     z='numbers of vehicle',\n",
    "                                     title=f'Congestion in {zone} for {vehicle}',\n",
    "                                     labels={'z': 'Number of Vehicles'})\n",
    "    \n",
    "    # Speed histogram\n",
    "    speed_histogram_fig = px.histogram(filtered_df, x='Average Speed (km/h)',\n",
    "                                       title=f'Speed Histogram for {zone} and {vehicle}',\n",
    "                                       labels={'x': 'Average Speed (km/h)', 'y': 'Frequency'})\n",
    "\n",
    "    return heatmap_fig, speed_histogram_fig\n",
    "\n",
    "# Run the application\n",
    "if __name__ == '__main__':\n",
    "    app.run_server(debug=True)\n"
   ]
  },
  {
   "cell_type": "code",
   "execution_count": null,
   "id": "c48827fe-7a61-4c91-9b94-50d8dd3e0366",
   "metadata": {},
   "outputs": [],
   "source": []
  }
 ],
 "metadata": {
  "kernelspec": {
   "display_name": "Python 3 (ipykernel)",
   "language": "python",
   "name": "python3"
  },
  "language_info": {
   "codemirror_mode": {
    "name": "ipython",
    "version": 3
   },
   "file_extension": ".py",
   "mimetype": "text/x-python",
   "name": "python",
   "nbconvert_exporter": "python",
   "pygments_lexer": "ipython3",
   "version": "3.12.1"
  }
 },
 "nbformat": 4,
 "nbformat_minor": 5
}
